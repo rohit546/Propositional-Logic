{
 "cells": [
  {
   "cell_type": "markdown",
   "metadata": {},
   "source": [
    "# Task#1(a)"
   ]
  },
  {
   "cell_type": "code",
   "execution_count": 2,
   "metadata": {},
   "outputs": [],
   "source": [
    "def conjunction(p, q):\n",
    "    return p and q\n",
    "\n",
    "def negation(p):\n",
    "    return not p\n",
    "\n",
    "def disjunction(p, q):\n",
    "    return p or q\n"
   ]
  },
  {
   "cell_type": "code",
   "execution_count": 3,
   "metadata": {},
   "outputs": [
    {
     "name": "stdout",
     "output_type": "stream",
     "text": [
      "p\tq\tr\t~r\tqv~r\t~p\t~p^(qv~r)\n",
      "\n",
      "True \t True \t True \t False \t True \t False \t False\n",
      "True \t True \t False \t True \t True \t False \t False\n",
      "True \t False \t True \t False \t False \t False \t False\n",
      "True \t False \t False \t True \t True \t False \t False\n",
      "False \t True \t True \t False \t True \t True \t True\n",
      "False \t True \t False \t True \t True \t True \t True\n",
      "False \t False \t True \t False \t False \t True \t False\n",
      "False \t False \t False \t True \t True \t True \t True\n",
      "\n",
      "Premises are: p , q , r\n",
      "Conclusion is: ~p^(qv~r)\n"
     ]
    }
   ],
   "source": [
    "print(\"p\\tq\\tr\\t~r\\tqv~r\\t~p\\t~p^(qv~r)\\n\" )\n",
    "\n",
    "for p in [True, False]:\n",
    "    for q in [True, False]:\n",
    "            for r in [True, False]:\n",
    "                a = negation(r)\n",
    "                b=disjunction(q,a)\n",
    "                c=negation(p)\n",
    "                d=conjunction(c,b)\n",
    "                print(p,\"\\t\" ,q,\"\\t\" ,r,\"\\t\" , a,\"\\t\",b,\"\\t\",c,\"\\t\",d)\n",
    "\n",
    "print(\"\\nPremises are: p , q , r\")\n",
    "print(\"Conclusion is: ~p^(qv~r)\")       \n",
    "     \n"
   ]
  },
  {
   "cell_type": "markdown",
   "metadata": {},
   "source": [
    "# Task#1(b)"
   ]
  },
  {
   "cell_type": "code",
   "execution_count": 4,
   "metadata": {},
   "outputs": [
    {
     "name": "stdout",
     "output_type": "stream",
     "text": [
      "p\tq\tp=>q\t~q\t~p\t~q=>~p\t(p=>q)<=>(~q=>~p)\n",
      "\n",
      "True \t True \t True \t False \t False \t True \t True\n",
      "True \t False \t False \t True \t False \t False \t True\n",
      "False \t True \t True \t False \t True \t True \t True\n",
      "False \t False \t True \t True \t True \t True \t True\n",
      "\n",
      "Premises are: p , q\n",
      "conclusion is: (p=>q)<=>(~q=>~p)\n"
     ]
    }
   ],
   "source": [
    "print(\"p\\tq\\tp=>q\\t~q\\t~p\\t~q=>~p\\t(p=>q)<=>(~q=>~p)\\n\")\n",
    "\n",
    "for p in [True, False]:\n",
    "    for q in [True, False]:\n",
    "        negationP=negation(p)\n",
    "        PimpliesQ=disjunction(negationP,q)\n",
    "        negationQ=negation(q)\n",
    "        NQimpliesNP=disjunction(q,negationP)\n",
    "        pANDq=conjunction(PimpliesQ,NQimpliesNP)\n",
    "        #(p^q)v(~p^~q)   do correct \n",
    "        NPimpliesQ=negation(PimpliesQ)\n",
    "        DNQimpliesNP=negation(NQimpliesNP)\n",
    "        P=conjunction(PimpliesQ,NQimpliesNP)\n",
    "        Q=conjunction(NPimpliesQ,DNQimpliesNP)\n",
    "        final=disjunction(P,Q)\n",
    "        print(p,\"\\t\" ,q,\"\\t\" ,PimpliesQ,\"\\t\" , negationQ,\"\\t\",negationP,\"\\t\",NQimpliesNP,\"\\t\",final)\n",
    "print(\"\\nPremises are: p , q\")\n",
    "print(\"conclusion is: (p=>q)<=>(~q=>~p)\")"
   ]
  },
  {
   "cell_type": "markdown",
   "metadata": {},
   "source": [
    "# Task#2(a)"
   ]
  },
  {
   "cell_type": "code",
   "execution_count": 5,
   "metadata": {},
   "outputs": [
    {
     "name": "stdout",
     "output_type": "stream",
     "text": [
      "The grass was not wet this morning: False\n",
      "The grass was wet this morning -> q\n",
      "it didn’t rain last night -> ~p\n",
      "p \t q \t ~p \t ~q \t ~p -> ~q\n",
      "True \t True \t False \t False \t True\n",
      "True \t False \t False \t True \t True\n",
      "False \t True \t True \t False \t False\n",
      "False \t False \t True \t True \t True\n"
     ]
    }
   ],
   "source": [
    "\n",
    "def implication(p, q):\n",
    "    return (not p) or q\n",
    "\n",
    "def inference_rule(statement1, statement2):\n",
    "    # According to the inference rule, if Statement2 is true,\n",
    "    # then the grass was not wet this morning (¬Statement1) should be true.\n",
    "    return not statement1\n",
    "\n",
    "def truth_table():\n",
    "    print(\"p \\t q \\t ~p \\t ~q \\t ~p -> ~q\")\n",
    "    for p in [True, False]:\n",
    "        for q in [True, False]:\n",
    "            not_p = negation(p)\n",
    "            not_q = negation(q)\n",
    "            result = implication(not_p, not_q)\n",
    "            print(f\"{p} \\t {q} \\t {not_p} \\t {not_q} \\t {result}\")\n",
    "\n",
    "# Given statements\n",
    "statement1 = True\n",
    "statement2 = True\n",
    "\n",
    "# Inference rule application\n",
    "result_inference = inference_rule(statement1, statement2)\n",
    "print(\"The grass was not wet this morning:\", result_inference)\n",
    "\n",
    "# Printing given statements\n",
    "print(\"The grass was wet this morning -> q\")\n",
    "print(\"it didn’t rain last night -> ~p\")\n",
    "\n",
    "# Generating truth table\n",
    "truth_table()\n"
   ]
  },
  {
   "cell_type": "markdown",
   "metadata": {},
   "source": [
    "# Task#2(b)"
   ]
  },
  {
   "cell_type": "code",
   "execution_count": 6,
   "metadata": {},
   "outputs": [
    {
     "name": "stdout",
     "output_type": "stream",
     "text": [
      "I am not sleepy: True\n",
      "P->~Q\n",
      "~Q\n",
      "p \t q \t ~p \t ~q \t P->Q \t Result\n",
      "True \t True \t False \t False \t True \t True\n",
      "True \t False \t False \t True \t False \t True\n",
      "False \t True \t True \t False \t True \t True\n",
      "False \t False \t True \t True \t True \t False\n"
     ]
    }
   ],
   "source": [
    "\n",
    "def implication(p, q):\n",
    "    return (not p) or q\n",
    "\n",
    "def inference_rule(statement1, statement2):\n",
    "    # Modus tollens: If P -> ~Q and P is true, then ~Q should be true.\n",
    "    if statement1 == True:\n",
    "        return negation(statement2)\n",
    "    else:\n",
    "        return statement2\n",
    "\n",
    "# Given statements\n",
    "statement1 = True  # P->~Q\n",
    "statement2 = False  # ~Q\n",
    "\n",
    "# Inference rule application\n",
    "result_inference = inference_rule(statement1, statement2)\n",
    "print(\"I am not sleepy:\", result_inference)\n",
    "\n",
    "# Printing given statements\n",
    "print(\"P->~Q\")\n",
    "print(\"~Q\")\n",
    "\n",
    "# Generating truth table\n",
    "print(\"p \\t q \\t ~p \\t ~q \\t P->Q \\t Result\")\n",
    "for p in [True, False]:\n",
    "    for q in [True, False]:\n",
    "        not_p = negation(p)\n",
    "        not_q = negation(q)\n",
    "        result = implication(p, q)\n",
    "        print(f\"{p} \\t {q} \\t {not_p} \\t {not_q} \\t {result} \\t {inference_rule(result, not_q)}\")\n"
   ]
  },
  {
   "cell_type": "markdown",
   "metadata": {},
   "source": [
    "# Task#2(c)"
   ]
  },
  {
   "cell_type": "code",
   "execution_count": 10,
   "metadata": {},
   "outputs": [
    {
     "name": "stdout",
     "output_type": "stream",
     "text": [
      "I have vanilla or chocolate ice-cream: True\n",
      "p \t q \t p∨q\n",
      "True \t True \t True\n",
      "True \t False \t True\n",
      "False \t True \t True\n",
      "False \t False \t False\n"
     ]
    }
   ],
   "source": [
    "\n",
    "# Applying the OR operation for all possible combinations of p and q\n",
    "for p in [True, False]:\n",
    "    for q in [True, False]:\n",
    "        result = disjunction(p, q)\n",
    "\n",
    "# Defining the inference rule using conjunction (OR)\n",
    "def inference_rule(statement1, statement2):\n",
    "    return statement1 or statement2\n",
    "\n",
    "# Given statements\n",
    "statement1 = True  # P\n",
    "statement2 = True  # Q\n",
    "\n",
    "# Applying the inference rule\n",
    "result_inference = inference_rule(statement1, statement2)\n",
    "print(\"I have vanilla or chocolate ice-cream:\", result_inference)\n",
    "\n",
    "# Generating truth table\n",
    "print(\"p \\t q \\t p∨q\")\n",
    "for p in [True, False]:\n",
    "    for q in [True, False]:\n",
    "        print(p, \"\\t\", q, \"\\t\", disjunction(p, q))\n"
   ]
  },
  {
   "cell_type": "markdown",
   "metadata": {},
   "source": [
    "# Task#3 (a)"
   ]
  },
  {
   "cell_type": "code",
   "execution_count": 2,
   "metadata": {},
   "outputs": [
    {
     "name": "stdout",
     "output_type": "stream",
     "text": [
      "Enter a value for z: 10\n",
      "The value of x that satisfies 'x == z' and 'z == 10' is: 10\n",
      "If 'a' is equal to 'b' and 'b' is equal to 100, what is the value of 'a'?\n",
      "Enter a value for a: 100\n",
      "The value of 'a' that satisfies the condition 'a == b' and 'b == 100' is: 100\n"
     ]
    }
   ],
   "source": [
    "def search_value_for_x(z):\n",
    "    if z == 10:\n",
    "        return z\n",
    "    else:\n",
    "        return None\n",
    "\n",
    "def search_value_for_a():\n",
    "    b = 100\n",
    "    if a == b:\n",
    "        return a\n",
    "    else:\n",
    "        return None\n",
    "\n",
    "# Asking for a number x such that x == z and z == 10\n",
    "z = int(input(\"Enter a value for z: \"))\n",
    "x = search_value_for_x(z)\n",
    "if x is not None:\n",
    "    print(f\"The value of x that satisfies 'x == z' and 'z == 10' is: {x}\")\n",
    "else:\n",
    "    print(\"No value of x satisfies the conditions.\")\n",
    "\n",
    "# Asking for the value of a if a == b and b == 100\n",
    "print(\"If 'a' is equal to 'b' and 'b' is equal to 100, what is the value of 'a'?\")\n",
    "a = int(input(\"Enter a value for a: \"))\n",
    "result_a = search_value_for_a()\n",
    "if result_a is not None:\n",
    "    print(f\"The value of 'a' that satisfies the condition 'a == b' and 'b == 100' is: {result_a}\")\n",
    "else:\n",
    "    print(\"No value of 'a' satisfies the conditions.\")\n"
   ]
  },
  {
   "cell_type": "markdown",
   "metadata": {},
   "source": [
    "# Task#3(b)"
   ]
  },
  {
   "cell_type": "code",
   "execution_count": 3,
   "metadata": {},
   "outputs": [
    {
     "name": "stdout",
     "output_type": "stream",
     "text": [
      "a. The father of Usman is: Umer\n",
      "b. Children of Umer are: ['Usman', 'Ali']\n",
      "c. The grandfather of Usman is: Suleman\n",
      "d. The grandfather of Umer is: Noman\n"
     ]
    }
   ],
   "source": [
    "# Define a dictionary to represent parent relationships\n",
    "parent_relations = {\n",
    "    'Umer': ['Usman', 'Ali'],\n",
    "    'Suleman': ['Umer'],\n",
    "    'Noman': ['Suleman']\n",
    "}\n",
    "\n",
    "# a. Who is the father of Usman?\n",
    "father_of_usman = None\n",
    "for father, children in parent_relations.items():\n",
    "    if 'Usman' in children:\n",
    "        father_of_usman = father\n",
    "        break\n",
    "print(\"a. The father of Usman is:\", father_of_usman)\n",
    "\n",
    "# b. Children of Umer?\n",
    "children_of_umer = parent_relations.get('Umer', [])\n",
    "print(\"b. Children of Umer are:\", children_of_umer)\n",
    "\n",
    "# c. Who is the grandfather of Usman?\n",
    "grandfather_of_usman = None\n",
    "for father, children in parent_relations.items():\n",
    "    for child in children:\n",
    "        if child == 'Usman':\n",
    "            for grandfather, grandchildren in parent_relations.items():\n",
    "                if father in grandchildren:\n",
    "                    grandfather_of_usman = grandfather\n",
    "                    break\n",
    "print(\"c. The grandfather of Usman is:\", grandfather_of_usman)\n",
    "\n",
    "# d. Who is the grandfather of Umer?\n",
    "grandfather_of_umer = None\n",
    "for father, children in parent_relations.items():\n",
    "    if 'Umer' in children:\n",
    "        for grandfather, grandchildren in parent_relations.items():\n",
    "            if father in grandchildren:\n",
    "                grandfather_of_umer = grandfather\n",
    "                break\n",
    "print(\"d. The grandfather of Umer is:\", grandfather_of_umer)\n",
    "\n"
   ]
  },
  {
   "cell_type": "markdown",
   "metadata": {},
   "source": [
    "# Task#4"
   ]
  },
  {
   "cell_type": "code",
   "execution_count": 3,
   "metadata": {},
   "outputs": [
    {
     "name": "stdout",
     "output_type": "stream",
     "text": [
      "The statement is definitely true.\n"
     ]
    }
   ],
   "source": [
    "from logic import *\n",
    "\n",
    "class WumpusWorldKB:\n",
    "    def __init__(self, size):\n",
    "        self.size = size\n",
    "        self.pits = set()\n",
    "        self.monsters = set()\n",
    "        self.breeze = set()\n",
    "        self.stench = set()\n",
    "\n",
    "    def add_pit(self, location):\n",
    "        self.pits.add(location)\n",
    "\n",
    "    def add_monster(self, location):\n",
    "        self.monsters.add(location)\n",
    "\n",
    "    def add_breeze(self, location):\n",
    "        self.breeze.add(location)\n",
    "\n",
    "    def add_stench(self, location):\n",
    "        self.stench.add(location)\n",
    "\n",
    "    def is_pit(self, location):\n",
    "        return location in self.pits\n",
    "\n",
    "    def is_monster(self, location):\n",
    "        return location in self.monsters\n",
    "\n",
    "    def is_breeze(self, location):\n",
    "        return location in self.breeze\n",
    "\n",
    "    def is_stench(self, location):\n",
    "        return location in self.stench\n",
    "\n",
    "    def infer(self, statement):\n",
    "        if isinstance(statement, Expr):\n",
    "            if statement.op == 'P':\n",
    "                return self.is_pit((statement.args[0], statement.args[1]))\n",
    "            elif statement.op == 'M':\n",
    "                return self.is_monster((statement.args[0], statement.args[1]))\n",
    "            elif statement.op == 'B':\n",
    "                return self.is_breeze((statement.args[0], statement.args[1]))\n",
    "            elif statement.op == 'S':\n",
    "                return self.is_stench((statement.args[0], statement.args[1]))\n",
    "        return None\n",
    "\n",
    "\n",
    "if __name__ == \"__main__\":\n",
    "    \n",
    "    size = 4\n",
    "\n",
    "    \n",
    "    kb = WumpusWorldKB(size)\n",
    "\n",
    "    \n",
    "    kb.add_breeze((1, 2))\n",
    "    kb.add_pit((1, 3))\n",
    "    kb.add_breeze((1, 4))\n",
    "    kb.add_stench((2, 1))\n",
    "    kb.add_monster((3, 1))\n",
    "    kb.add_breeze((3, 2))\n",
    "    kb.add_stench((3, 2))\n",
    "    kb.add_pit((3, 3))\n",
    "    kb.add_breeze((3, 4))\n",
    "    kb.add_stench((4, 1))\n",
    "    kb.add_pit((4, 4))\n",
    "\n",
    "    # Define a query\n",
    "    query = Expr('M', 3, 1)  # MONSTER IN 3 ROW and 1 COLUMN\n",
    "\n",
    "   \n",
    "    result = kb.infer(query)\n",
    "\n",
    "    if result is True:\n",
    "        print(\"The statement is definitely true.\")\n",
    "    elif result is False:\n",
    "        print(\"The statement is definitely false.\")\n",
    "    else:\n",
    "        print(\"The truth value of the statement is unknown.\")\n"
   ]
  }
 ],
 "metadata": {
  "kernelspec": {
   "display_name": "Python 3 (ipykernel)",
   "language": "python",
   "name": "python3"
  },
  "language_info": {
   "codemirror_mode": {
    "name": "ipython",
    "version": 3
   },
   "file_extension": ".py",
   "mimetype": "text/x-python",
   "name": "python",
   "nbconvert_exporter": "python",
   "pygments_lexer": "ipython3",
   "version": "3.11.5"
  }
 },
 "nbformat": 4,
 "nbformat_minor": 2
}
